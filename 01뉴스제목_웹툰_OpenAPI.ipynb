{
 "cells": [
  {
   "cell_type": "markdown",
   "id": "eb0bfa44",
   "metadata": {},
   "source": [
    "## 1. 뉴스제목 가져오기\n",
    "* user-agent 요청헤더를 반드시 설정해야 한다."
   ]
  },
  {
   "cell_type": "code",
   "execution_count": 1,
   "id": "f0d27781",
   "metadata": {},
   "outputs": [
    {
     "name": "stdout",
     "output_type": "stream",
     "text": [
      "Name: requests\n",
      "Version: 2.32.3\n",
      "Summary: Python HTTP for Humans.\n",
      "Home-page: https://requests.readthedocs.io\n",
      "Author: Kenneth Reitz\n",
      "Author-email: me@kennethreitz.org\n",
      "License: Apache-2.0\n",
      "Location: c:\\Users\\user\\anaconda3\\Lib\\site-packages\n",
      "Requires: certifi, charset-normalizer, idna, urllib3\n",
      "Required-by: aext-assistant-server, anaconda-catalogs, anaconda-client, anaconda-cloud-auth, anaconda-project, conda, conda-build, conda-repo-cli, conda_package_streaming, cookiecutter, datashader, jupyterlab_server, panel, requests-file, requests-toolbelt, Sphinx, streamlit, tldextract\n",
      "Note: you may need to restart the kernel to use updated packages.\n"
     ]
    }
   ],
   "source": [
    "# requests 라이브러리 설치여부 확인\n",
    "%pip show requests"
   ]
  },
  {
   "cell_type": "code",
   "execution_count": 2,
   "id": "f7798ea8",
   "metadata": {},
   "outputs": [
    {
     "name": "stdout",
     "output_type": "stream",
     "text": [
      "Name: beautifulsoup4\n",
      "Version: 4.12.3\n",
      "Summary: Screen-scraping library\n",
      "Home-page: https://www.crummy.com/software/BeautifulSoup/bs4/\n",
      "Author: \n",
      "Author-email: Leonard Richardson <leonardr@segfault.org>\n",
      "License: MIT License\n",
      "Location: c:\\Users\\user\\anaconda3\\Lib\\site-packages\n",
      "Requires: soupsieve\n",
      "Required-by: conda-build, nbconvert\n",
      "Note: you may need to restart the kernel to use updated packages.\n"
     ]
    }
   ],
   "source": [
    "# beautifulsoup4 라이브러리 설치여부 확인\n",
    "%pip show beautifulsoup4"
   ]
  },
  {
   "cell_type": "code",
   "execution_count": 3,
   "id": "bf80a429",
   "metadata": {},
   "outputs": [],
   "source": [
    "# reqeusts, bs4 import\n",
    "import requests\n",
    "import bs4\n",
    "\n",
    "# BeautifulSoup 클래스 import\n",
    "from bs4 import BeautifulSoup"
   ]
  },
  {
   "cell_type": "code",
   "execution_count": 4,
   "id": "9788d6ac",
   "metadata": {},
   "outputs": [
    {
     "data": {
      "text/plain": [
       "('2.32.3', '4.12.3')"
      ]
     },
     "execution_count": 4,
     "metadata": {},
     "output_type": "execute_result"
    }
   ],
   "source": [
    "# requests, bs4 버전 확인하기\n",
    "requests.__version__, bs4.__version__"
   ]
  },
  {
   "cell_type": "markdown",
   "id": "ccb91def-cde3-4aeb-b0e5-2e7233500333",
   "metadata": {},
   "source": [
    "### 1. 뉴스 제목 추출하기"
   ]
  },
  {
   "cell_type": "code",
   "execution_count": 20,
   "id": "94c12fd6",
   "metadata": {},
   "outputs": [
    {
     "name": "stdout",
     "output_type": "stream",
     "text": [
      "https://news.naver.com/section/105\n",
      "<Response [200]>\n",
      "<class 'requests.models.Response'>\n",
      "200 True\n",
      "86\n",
      "<class 'bs4.element.ResultSet'>\n",
      "https://n.news.naver.com/mnews/article/015/0005116715 SK C&C, AI DX 기술 활용…제조 현장 안전 서비스 개발\n",
      "https://n.news.naver.com/mnews/article/comment/015/0005116715 \n",
      "https://n.news.naver.com/mnews/article/014/0005332635 SKT, 금융사·에이닷에 'AI 보이스피싱 탐지 기술' 적용\n",
      "https://n.news.naver.com/mnews/article/comment/014/0005332635 \n",
      "https://n.news.naver.com/mnews/article/022/0004025958 카메라로 옷장 비추며 “오늘 뭐 입을까?”… 난리 난 갤럭시 S25 新기능\n",
      "https://n.news.naver.com/mnews/article/comment/022/0004025958 \n",
      "https://n.news.naver.com/mnews/article/277/0005574783 과기정통부-산업부 맞손…화학·금속·세라믹·섬유 데이터 개방\n",
      "https://n.news.naver.com/mnews/article/comment/277/0005574783 \n",
      "https://n.news.naver.com/mnews/article/005/0001768545 뤼튼 “생활형 AI로 올해 MAU 1000만명 돌파할 것”\n",
      "https://n.news.naver.com/mnews/article/comment/005/0001768545 \n",
      "https://n.news.naver.com/mnews/article/003/0013169598 카카오메이커스, 출범 9년 만에 누적 거래액 1조원 돌파\n",
      "https://n.news.naver.com/mnews/article/comment/003/0013169598 \n",
      "https://n.news.naver.com/mnews/article/656/0000127859 과기정통부, 악성문자 차단 'X-ray 서비스'\n",
      "https://n.news.naver.com/mnews/article/comment/656/0000127859 \n",
      "https://n.news.naver.com/mnews/article/008/0005177712 카카오, '아픈 손가락' 카카오엔터 매각 추진\n",
      "https://n.news.naver.com/mnews/article/comment/008/0005177712 \n",
      "https://n.news.naver.com/mnews/article/029/0002946804 의정갈등에 `새우등 처지` 제약업계, 尹 파면에 \"정상화 기대\"\n",
      "https://n.news.naver.com/mnews/article/comment/029/0002946804 \n",
      "https://n.news.naver.com/mnews/article/016/0002454498 “이건 너무 심했다” 발칵 뒤집힌 애플…쏟아지는 뭇매에 결국\n",
      "https://n.news.naver.com/mnews/article/comment/016/0002454498 \n",
      "https://n.news.naver.com/mnews/article/030/0003301461 SK그룹, SK실트론 매각 추진\n",
      "https://n.news.naver.com/mnews/article/comment/030/0003301461 \n",
      "https://n.news.naver.com/mnews/article/015/0005116736 50만원짜리가 수억원으로 '변신'…한국도 뛰어들었다 [긱스]\n",
      "https://n.news.naver.com/mnews/article/comment/015/0005116736 \n",
      "https://n.news.naver.com/mnews/article/015/0005116734 \"수백 대 GPU 서버 효율적 관리…최적의 AI 연구개발 환경 만든다\" [긱스]\n",
      "https://n.news.naver.com/mnews/article/comment/015/0005116734 \n",
      "https://n.news.naver.com/mnews/article/015/0005116731 \"돈도 못 벌면서\" 구박 받던 당근…드디어 돈 벌었다 [긱스]\n",
      "https://n.news.naver.com/mnews/article/comment/015/0005116731 \n",
      "https://n.news.naver.com/mnews/article/029/0002946789 AI가 바꾼 검색 풍경… 이젠 키워드 말고 사진 `찰칵`\n",
      "https://n.news.naver.com/mnews/article/comment/029/0002946789 \n",
      "https://n.news.naver.com/mnews/article/031/0000922940 \"애플, 美 관세 피해 중국 아닌 인도서 아이폰 생산 늘린다\"\n",
      "https://n.news.naver.com/mnews/article/comment/031/0000922940 \n",
      "https://n.news.naver.com/mnews/article/011/0004471741 기술력이 자산이 되지 못하는 나라 [기자의눈]\n",
      "https://n.news.naver.com/mnews/article/comment/011/0004471741 \n",
      "https://n.news.naver.com/mnews/article/031/0000922930 찜솥 더위·높은 습도 견디는 고효율 태양전지 나온다 [지금은 과학]\n",
      "https://n.news.naver.com/mnews/article/comment/031/0000922930 \n",
      "https://n.news.naver.com/mnews/article/020/0003626869 GM “SDV 시대 준비 박차·슈퍼크루즈 20개 모델 이상 적용 완료”\n",
      "https://n.news.naver.com/mnews/article/comment/020/0003626869 \n",
      "https://n.news.naver.com/mnews/article/366/0001067701 2분짜리 영상도 뚝딱… 불붙은 아마존·오픈AI·구글 영상 AI 경쟁\n",
      "https://n.news.naver.com/mnews/article/comment/366/0001067701 \n",
      "https://n.news.naver.com/mnews/article/092/0002369863 K푸드에 닥친 '관세 쇼크'…삼양·LG생건 등 더 걱정\n",
      "https://n.news.naver.com/mnews/article/comment/092/0002369863 \n",
      "https://n.news.naver.com/mnews/article/009/0005472991 사흘간 비행기 5대 띄워 … 애플, 중국·인도産 아이폰 긴급수송\n",
      "https://n.news.naver.com/mnews/article/comment/009/0005472991 \n",
      "https://n.news.naver.com/mnews/article/584/0000031792 DNA까지 침투…나노플라스틱 생성 원리 최초 규명\n",
      "https://n.news.naver.com/mnews/article/comment/584/0000031792 \n",
      "https://n.news.naver.com/mnews/article/009/0005472950 옷장 비췄더니 AI가 \"이 옷 입으세요\"\n",
      "https://n.news.naver.com/mnews/article/comment/009/0005472950 \n",
      "https://n.news.naver.com/mnews/article/081/0003531813 美 스탠퍼드대 ‘AI 보고서’ 선정된 유일한 한국 모델은?\n",
      "https://n.news.naver.com/mnews/article/comment/081/0003531813 \n",
      "https://n.news.naver.com/mnews/article/366/0001067696 의협, “내년 의대 정원 3058명으로”…정부·국회에 대화 요구도\n",
      "https://n.news.naver.com/mnews/article/comment/366/0001067696 \n",
      "https://n.news.naver.com/mnews/article/092/0002369861 BBQ, 법정관리 '위메프' 품을까...\"인수 의향서 제출\"\n",
      "https://n.news.naver.com/mnews/article/comment/092/0002369861 \n",
      "https://n.news.naver.com/mnews/article/138/0002194290 키움증권 ‘전산 먹통’ 논란…  결국 다우기술로 불똥튀나\n",
      "https://n.news.naver.com/mnews/article/comment/138/0002194290 \n",
      "https://n.news.naver.com/mnews/article/009/0005472935 \"기존 약물 새 쓰임새, AI로 찾아냅니다\"\n",
      "https://n.news.naver.com/mnews/article/comment/009/0005472935 \n",
      "https://n.news.naver.com/mnews/article/029/0002946759 `한국계 우주비행사` 조니 김, 러 우주선 타고 국제우주정거장 `발사`\n",
      "https://n.news.naver.com/mnews/article/comment/029/0002946759 \n",
      "https://n.news.naver.com/mnews/article/138/0002194287 [DD퇴근길] '갤럭시S25' 통했나?…삼성전자, 1Q 어닝서프라이즈\n",
      "https://n.news.naver.com/mnews/article/comment/138/0002194287 \n",
      "https://n.news.naver.com/mnews/article/138/0002194286 악성문자 발송단계서 원천차단…'엑스레이' 서비스, 9일부터 시범 운영\n",
      "https://n.news.naver.com/mnews/article/comment/138/0002194286 \n",
      "https://n.news.naver.com/mnews/article/003/0013171527 아이폰 미리 사야할까…관세 쇼크에 美에선 일부 사재기 현상\n",
      "https://n.news.naver.com/mnews/article/comment/003/0013171527 \n",
      "https://n.news.naver.com/mnews/article/092/0002369859 순이익 3분의 1인데…MBK, '오스템임플란트' 고배당 논란\n",
      "https://n.news.naver.com/mnews/article/comment/092/0002369859 \n",
      "https://n.news.naver.com/mnews/article/417/0001069560 소상공인과 IT공룡 사이… 장미 대선 앞두고 '온플법' 재점화될까\n",
      "https://n.news.naver.com/mnews/article/comment/417/0001069560 \n",
      "https://n.news.naver.com/mnews/article/293/0000065897 토스랩의 '잔디 몰입' 전략…챗GPT 없어도 AI로 리포트 쓰고 번역한다[테크체인저]\n",
      "https://n.news.naver.com/mnews/article/comment/293/0000065897 \n",
      "https://n.news.naver.com/mnews/article/092/0002369855 [유미's 픽] 트럼프 관세 폭탄 '코 앞'…글로벌 SW·AI 시장 찬바람 불까\n",
      "https://n.news.naver.com/mnews/article/comment/092/0002369855 \n",
      "https://n.news.naver.com/mnews/article/421/0008180923 '국민 게임' 포트리스 빠르면 올해 안에 돌아온다\n",
      "https://n.news.naver.com/mnews/article/comment/421/0008180923 \n",
      "https://n.news.naver.com/mnews/article/469/0000858365 국산 유전자재조합 탄저 백신 세계 첫 허가... GC녹십자, 1년반 만에 상용화\n",
      "https://n.news.naver.com/mnews/article/comment/469/0000858365 \n",
      "https://n.news.naver.com/mnews/article/025/0003432725 [팩플] 미중 AI격차 좁혀졌다...LG AI 엑사원 3.5 주목할만한 모델 선정\n",
      "https://n.news.naver.com/mnews/article/comment/025/0003432725 \n",
      "https://n.news.naver.com/mnews/article/009/0005472903 지브리풍 인기 끌자...네이버 스노우도 “일본 애니 프사 만들어드려요”\n",
      "https://n.news.naver.com/mnews/article/comment/009/0005472903 \n",
      "https://n.news.naver.com/mnews/article/020/0003626847 [생활 속 IT] 아이폰 ‘나의 찾기’로 실시간 위치 공유·제품 찾는 방법\n",
      "https://n.news.naver.com/mnews/article/comment/020/0003626847 \n",
      "https://n.news.naver.com/mnews/article/029/0002946736 아이폰 가격 인상 우려에 \"미리 산다\"...美 오프라인 매장 `인산인해`\n",
      "https://n.news.naver.com/mnews/article/comment/029/0002946736 \n"
     ]
    }
   ],
   "source": [
    "# IT/과학 뉴스 \n",
    "req_param = {\n",
    "    'sid': 105\n",
    "}\n",
    "# \n",
    "url = 'https://news.naver.com/section/{sid}'.format(**req_param)\n",
    "print(url)\n",
    "\n",
    "url2 = 'https://news.naver.com/section/105'\n",
    "\n",
    "# 요청 헤더 설정 : 브라우저 정보\n",
    "req_header = {\n",
    "    'user_agent':'Mozilla/5.0 (Windows NT 10.0; Win64; x64) AppleWebKit/537.36 (KHTML, like Gecko) Chrome/135.0.0.0 Safari/537.36 Edg/135.0.0.0'\n",
    "\n",
    "}\n",
    "\n",
    "# requests 의 get() 함수 호출하기 \n",
    "res = requests.get(url, headers=req_header)\n",
    "print(res)\n",
    "print(type(res))\n",
    "print(res.status_code, res.ok)\n",
    "if res.ok:\n",
    "# 응답(response)이 OK 이면\n",
    "# 응답 (response)에서 text 추출\n",
    "    html = res.text\n",
    "    # print(html)\n",
    "# BeautifulSoup 객체 생성  \n",
    "    soup = BeautifulSoup(html, 'html.parser')\n",
    "    # print(soup)\n",
    "# CSS 선택자\n",
    "    print(len(soup.select(\"div.sa_text a[href*='mnews/article']\")))\n",
    "# print(soup.select(\"div.sa_text a[href*='mnews/article']\"))\n",
    "    a_tag_list = soup.select(\"div.sa_text a[href*='mnews/article']\")\n",
    "    print(type(a_tag_list))\n",
    "    for a_tag in a_tag_list:\n",
    "        # print(type(a_tag))\n",
    "        title = a_tag.text.strip()\n",
    "        link = a_tag['href']\n",
    "        print(link, title)\n",
    "# <a> 태그 리스트 순회하기    \n",
    "else:\n",
    "# 응답(response)이 Error 이면 status code 출력    \n",
    "    print(f\"에러코드 = {res.status_code}\")\n",
    "\n"
   ]
  },
  {
   "cell_type": "markdown",
   "id": "45640860-a449-4285-90d7-5f300292b461",
   "metadata": {},
   "source": [
    "### 1.1 뉴스제목 추출하는 함수 선언하기"
   ]
  },
  {
   "cell_type": "code",
   "execution_count": null,
   "id": "9f2e4ef8",
   "metadata": {},
   "outputs": [],
   "source": [
    "import requests\n",
    "from bs4 import BeautifulSoup\n",
    "\n",
    "section_dict = {100:'정치',101:'경제',102:'사회',103:'생활/문화',104:'세계',105:'IT/과학'}\n",
    "\n",
    "def print_news(sid, section):  #print_new(103,'생활/문화') \n",
    "    req_param = {\n",
    "        'sid': sid\n",
    "    }\n",
    "\n",
    "    url = 'https://news.naver.com/section/{sid}'.format(**req_param)\n",
    "    print(url)"
   ]
  },
  {
   "cell_type": "code",
   "execution_count": 28,
   "id": "858952c6",
   "metadata": {},
   "outputs": [
    {
     "name": "stdout",
     "output_type": "stream",
     "text": [
      "======> https://news.naver.com/section/103 생활/문화 뉴스 <======\n",
      "40\n",
      "\n",
      " 주말까지 강추위 계속‥오전, 호남·제주 3~8cm 눈[날씨]\n",
      "\n",
      "기사링크 = https://n.news.naver.com/mnews/article/214/0001403915\n",
      "\n",
      "케이카, 지난해 연간 영업익 15.4%↑…\"올해도 두 자릿수 성장\"\n",
      "\n",
      "기사링크 = https://n.news.naver.com/mnews/article/018/0005937501\n",
      "\n",
      "넓은 마당에 연못 갖춘 대형 건물…신라 태자의 '동궁' 찾았다\n",
      "\n",
      "기사링크 = https://n.news.naver.com/mnews/article/001/0015194593\n",
      "\n",
      "KGM, 액티언에 '파노라마 선루프' 적용 출시\n",
      "\n",
      "기사링크 = https://n.news.naver.com/mnews/article/001/0015194928\n",
      "\n",
      "퇴근길 교통사고로 뇌사…30세 방사선사, 6명에 새삶 주고 떠났다\n",
      "\n",
      "기사링크 = https://n.news.naver.com/mnews/article/025/0003419039\n",
      "\n",
      "일주일에 계란 몇 개?...'이만큼' 먹어라! 심장질환 위험 낮춘다\n",
      "\n",
      "기사링크 = https://n.news.naver.com/mnews/article/296/0000086475\n",
      "\n",
      "퇴근길 또 '눈' 소식…주말까지 '꽁꽁'\n",
      "\n",
      "기사링크 = https://n.news.naver.com/mnews/article/215/0001197565\n",
      "\n",
      "오후부터 중부지방 많은 눈…동장군 기세 주말 이후 꺾여\n",
      "\n",
      "기사링크 = https://n.news.naver.com/mnews/article/003/0013050704\n",
      "\n",
      "강추위 속 오후부터 전국 눈…호남·충청 최대 15cm↑\n",
      "\n",
      "기사링크 = https://n.news.naver.com/mnews/article/055/0001229272\n",
      "\n",
      "퇴근길 눈 비상…수도권 등 중부 최대 10㎝ 대설\n",
      "\n",
      "기사링크 = https://n.news.naver.com/mnews/article/422/0000711291\n",
      "\n",
      "경주 동궁과월지 추적 10년… 신라의 ‘진짜 동궁터’ 찾았다\n",
      "\n",
      "기사링크 = https://n.news.naver.com/mnews/article/021/0002688274\n",
      "\n",
      "특별한 밸런타인데이 선물, 세상에 단 하나뿐인 수제 초콜릿 바 [쿠킹]\n",
      "\n",
      "기사링크 = https://n.news.naver.com/mnews/article/025/0003419027\n",
      "\n",
      "웨이모와 손잡은 우버, 美 오스틴·애틀랜타에서도 무인 택시 탄다\n",
      "\n",
      "기사링크 = https://n.news.naver.com/mnews/article/014/0005304469\n",
      "\n",
      "하루 중 기분 좋은 시간, 아침에 최상…최악은 언제?\n",
      "\n",
      "기사링크 = https://n.news.naver.com/mnews/article/296/0000086474\n",
      "\n",
      "옥저海 건너와, 자기 땅에서 유배된 북미 선주민들[함영훈의 멋·맛·쉼]\n",
      "\n",
      "기사링크 = https://n.news.naver.com/mnews/article/016/0002424881\n",
      "\n",
      "“턱 전체에 ‘공동묘지’ 타투”… 묘비·무덤·거미줄까지, 왜 새겼냐 물으니?\n",
      "\n",
      "기사링크 = https://n.news.naver.com/mnews/article/346/0000087074\n",
      "\n",
      "구준엽, 아내 서희원 유해 품고 대만으로…\"작별식 안 한다\"\n",
      "\n",
      "기사링크 = https://n.news.naver.com/mnews/article/079/0003988755\n",
      "\n",
      "젊은 층은 인스타, 50·60대는 밴드 선호…전 연령 1위는 카톡\n",
      "\n",
      "기사링크 = https://n.news.naver.com/mnews/article/001/0015195201\n",
      "\n",
      "분노한 청년들 “이제 복수할 때가 왔다”\n",
      "\n",
      "기사링크 = https://n.news.naver.com/mnews/article/082/0001310530\n",
      "\n",
      "요즘 한국 추운 이유…알고보니 원인 지목된 ‘이것’\n",
      "\n",
      "기사링크 = https://n.news.naver.com/mnews/article/018/0005937626\n",
      "\n",
      "미완의 의료개혁…해법은 ‘공공의료’ 강화[북적book적]\n",
      "\n",
      "기사링크 = https://n.news.naver.com/mnews/article/016/0002424766\n",
      "\n",
      "“‘이 음식’ 먹고 살찜” 강민경, 맛있지만 지방·나트륨 다량… 뭐였을까?\n",
      "\n",
      "기사링크 = https://n.news.naver.com/mnews/article/346/0000087070\n",
      "\n",
      "HK이노엔, ‘케이캡’ 물질특허 1심 이어 2심도 승소 “국산 신약 가치 인정”\n",
      "\n",
      "기사링크 = https://n.news.naver.com/mnews/article/346/0000087069\n",
      "\n",
      "이지혜, 요즘 ‘이 음식’ 푹 빠져 볶음밥까지… 알고 보면 살찌는 지름길?\n",
      "\n",
      "기사링크 = https://n.news.naver.com/mnews/article/346/0000087068\n",
      "\n",
      "신애라, 아침에 '이것' 매일 마셔…혈당 걱정 없다는데, 뭐길래?\n",
      "\n",
      "기사링크 = https://n.news.naver.com/mnews/article/296/0000086469\n",
      "\n",
      "아이브 레이, 다이어트 할 때 ‘이 음식’ 절대 피한다… 뭘까?\n",
      "\n",
      "기사링크 = https://n.news.naver.com/mnews/article/346/0000087067\n",
      "\n",
      "“18kg 훅 찌웠다”… 장혜진 밤마다 먹은 ‘이 음식’, 실제 나트륨 폭탄?\n",
      "\n",
      "기사링크 = https://n.news.naver.com/mnews/article/346/0000087066\n",
      "\n",
      "신라 태자 살던 ‘동궁’, 월지 동편서 유력 건물 터 발견\n",
      "\n",
      "기사링크 = https://n.news.naver.com/mnews/article/028/0002729712\n",
      "\n",
      "“15살에 임신했지만, 이젠 의대생”… 미국 21세 女 ‘성공 스토리’ 공개, 사연 보니?\n",
      "\n",
      "기사링크 = https://n.news.naver.com/mnews/article/346/0000087065\n",
      "\n",
      "신라 태자의 '진짜 동궁' 찾았다…넓은 마당에 연못 갖춰\n",
      "\n",
      "기사링크 = https://n.news.naver.com/mnews/article/022/0004008465\n",
      "\n",
      "사실상 ‘0’대인 조류탐지 레이더...국내 모든 공항에 도입\n",
      "\n",
      "기사링크 = https://n.news.naver.com/mnews/article/025/0003418998\n",
      "\n",
      "제니도 사러 간다는데…\"명품백 헐값에 득템\" 엄지척 [안혜원의 명품의세계]\n",
      "\n",
      "기사링크 = https://n.news.naver.com/mnews/article/015/0005090310\n",
      "\n",
      "알리·테무 이어 딥시크까지…中 바람, 여행업계까지 불까\n",
      "\n",
      "기사링크 = https://n.news.naver.com/mnews/article/009/0005439211\n",
      "\n",
      "유럽에서 명품쇼핑하고 ‘신고사항 없음’ 표시 전 알아야 할 것 [여행 팩트체크]\n",
      "\n",
      "기사링크 = https://n.news.naver.com/mnews/article/009/0005439210\n",
      "\n",
      "“이제 복수할 때” 분노한 2030남성들의 기이한 반란 [북적book적]\n",
      "\n",
      "기사링크 = https://n.news.naver.com/mnews/article/016/0002424721\n",
      "\n",
      "\"아이폰4급 혁신 온다\"…中 샤오펑, L3 자율주행 최초 실현 예고\n",
      "\n",
      "기사링크 = https://n.news.naver.com/mnews/article/092/0002362120\n",
      "\n",
      "한파에 서울시 '수도계량기 동파 경계' 8일까지 연장(종합)\n",
      "\n",
      "기사링크 = https://n.news.naver.com/mnews/article/001/0015194800\n",
      "\n",
      "[930 날씨] 오늘 오후~내일 오전 전국 대부분 눈…강추위 계속\n",
      "\n",
      "기사링크 = https://n.news.naver.com/mnews/article/056/0011887486\n",
      "\n",
      "뜨거운 커피, 식도암 주의하세요\n",
      "\n",
      "기사링크 = https://n.news.naver.com/mnews/article/145/0000021700\n",
      "\n",
      "하루 5000kcal 먹으며 체중 감량한 英여성... 이 식단, 부작용은?\n",
      "\n",
      "기사링크 = https://n.news.naver.com/mnews/article/023/0003886344\n"
     ]
    }
   ],
   "source": [
    "print_news(103,section_dict[103])"
   ]
  },
  {
   "cell_type": "markdown",
   "id": "323196dc",
   "metadata": {},
   "source": [
    "### 2. Image 다운로드\n",
    "* referer 요청 헤더를 반드시 설정해야 한다."
   ]
  },
  {
   "cell_type": "code",
   "execution_count": null,
   "id": "c72d6cb1",
   "metadata": {},
   "outputs": [
    {
     "name": "stdout",
     "output_type": "stream",
     "text": [
      "200\n",
      "writing to 20220804112251_d97bd1e1b38f0cd022e4e3639d2926b3_IMAG01_1.jpg(299,319 bytes)\n",
      "200\n",
      "writing to 20220804112251_d97bd1e1b38f0cd022e4e3639d2926b3_IMAG01_2.jpg(163,333 bytes)\n",
      "200\n",
      "writing to 20220804112251_d97bd1e1b38f0cd022e4e3639d2926b3_IMAG01_3.jpg(182,530 bytes)\n"
     ]
    }
   ],
   "source": [
    "import requests\n",
    "import os\n",
    "\n",
    "req_header = {\n",
    "    'referer':''\n",
    "}\n",
    "\n",
    "img_urls = [\n",
    "    'https://image-comic.pstatic.net/webtoon/798173/5/20220804112251_d97bd1e1b38f0cd022e4e3639d2926b3_IMAG01_1.jpg',\n",
    "    'https://image-comic.pstatic.net/webtoon/798173/5/20220804112251_d97bd1e1b38f0cd022e4e3639d2926b3_IMAG01_2.jpg',\n",
    "    'https://image-comic.pstatic.net/webtoon/798173/5/20220804112251_d97bd1e1b38f0cd022e4e3639d2926b3_IMAG01_3.jpg'\n",
    "]\n",
    "\n",
    "for img_url in img_urls:\n",
    "    pass\n",
    "    # requests 의 get(url, headers) 함수 호출하기 \n",
    "        \n",
    "        # binary 응답 데이터 가져오기\n",
    "        \n",
    "        # url에서 파일명만 추출하기\n",
    "        \n",
    "        # binday data를 file에 write하기\n"
   ]
  },
  {
   "cell_type": "markdown",
   "id": "e8b00a04",
   "metadata": {},
   "source": [
    "* 현재 요청된 페이지의 image 모두 다운로드 해보기"
   ]
  },
  {
   "cell_type": "code",
   "execution_count": null,
   "id": "b30f7bf5",
   "metadata": {},
   "outputs": [],
   "source": []
  },
  {
   "cell_type": "markdown",
   "id": "2ac9f5f9",
   "metadata": {},
   "source": [
    "### 3. 파일 업로드 하기\n",
    "* http://httpbin.org/post 업로드 요청을 할 수 있는 url"
   ]
  },
  {
   "cell_type": "code",
   "execution_count": null,
   "id": "04da4790",
   "metadata": {},
   "outputs": [
    {
     "name": "stdout",
     "output_type": "stream",
     "text": [
      "200\n"
     ]
    }
   ],
   "source": [
    "import requests\n",
    "\n",
    "upload_files = {\n",
    "    \n",
    "}\n",
    "#print(upload_files)\n",
    "\n",
    "url = 'http://httpbin.org/post'\n",
    "# file 업로드 하려면 requests의 post 함수에 files 속성을 사용합니다.\n",
    "\n"
   ]
  },
  {
   "cell_type": "markdown",
   "id": "7ad65f12",
   "metadata": {},
   "source": [
    "### 4. 캡챠(이미지) API 호출하기\n",
    "* urllib 사용\n",
    "* 1. 캡차 키 발급 요청\n",
    "  2. 캡차 이미지 요청\n",
    "  3. 사용자 입력값 검증 요청"
   ]
  },
  {
   "cell_type": "code",
   "execution_count": 2,
   "id": "bc4ae360-e772-4873-8642-d3494edd34e1",
   "metadata": {},
   "outputs": [],
   "source": [
    "# 캡차 키 발급 요청\n"
   ]
  },
  {
   "cell_type": "code",
   "execution_count": 1,
   "id": "7b95b6a0-c218-4792-82a6-da4d80872071",
   "metadata": {},
   "outputs": [],
   "source": [
    "# 캡차 이미지 요청\n"
   ]
  },
  {
   "cell_type": "code",
   "execution_count": 3,
   "id": "a79076af-2cd0-4de2-8301-316b9130c55e",
   "metadata": {},
   "outputs": [],
   "source": [
    "#  사용자 입력값 검증 요청\n",
    "\n"
   ]
  },
  {
   "cell_type": "markdown",
   "id": "b7d984a6",
   "metadata": {},
   "source": [
    "* requests를 사용하는 코드로 변경하기\n",
    "* [requests docs](https://requests.readthedocs.io/en/latest/user/quickstart/)"
   ]
  },
  {
   "cell_type": "code",
   "execution_count": null,
   "id": "727b427b",
   "metadata": {
    "scrolled": true
   },
   "outputs": [
    {
     "name": "stdout",
     "output_type": "stream",
     "text": [
      "Error Code: 403\n"
     ]
    }
   ],
   "source": [
    "# 사용자 입력값 검증 요청\n",
    "\n"
   ]
  },
  {
   "cell_type": "markdown",
   "id": "d5e1179a",
   "metadata": {},
   "source": [
    "### 5. 블로그 검색하기"
   ]
  },
  {
   "cell_type": "code",
   "execution_count": null,
   "id": "877d0c7f",
   "metadata": {},
   "outputs": [],
   "source": [
    "import requests\n",
    "import pprint\n",
    "\n",
    "headers = {\n",
    "    'X-Naver-Client-Id': '',\n",
    "    'X-Naver-Client-Secret': '',\n",
    "}\n",
    "\n",
    "payload = {\n",
    "    'query': '파이썬',\n",
    "    'display': 100,\n",
    "    'sort': 'sim'\n",
    "}\n",
    "\n",
    "url = 'https://openapi.naver.com/v1/search/blog.json'\n",
    "\n",
    "\n",
    "# requests get(url, params, headers) 요청 \n",
    "\n",
    "# json() 함수로 응답 결과 가져오오기\n",
    "# 'title' , 'bloggername' , 'description' , 'bloggerlink' , 'link'\n",
    "\n",
    "# 'data/nhnblog.txt' 파일 생성하기\n"
   ]
  }
 ],
 "metadata": {
  "kernelspec": {
   "display_name": "base",
   "language": "python",
   "name": "python3"
  },
  "language_info": {
   "codemirror_mode": {
    "name": "ipython",
    "version": 3
   },
   "file_extension": ".py",
   "mimetype": "text/x-python",
   "name": "python",
   "nbconvert_exporter": "python",
   "pygments_lexer": "ipython3",
   "version": "3.12.7"
  }
 },
 "nbformat": 4,
 "nbformat_minor": 5
}
